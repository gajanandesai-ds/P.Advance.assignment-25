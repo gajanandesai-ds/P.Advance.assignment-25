{
 "cells": [
  {
   "cell_type": "raw",
   "id": "d7c922c9",
   "metadata": {},
   "source": [
    "Q1. What is the distinction between a numpy array and a pandas data frame? Is there a way to\n",
    "convert between the two if there is?"
   ]
  },
  {
   "cell_type": "raw",
   "id": "cbd34622",
   "metadata": {},
   "source": [
    "ANS:The pandas module mainly works with the tabular data, whereas the numpy module works with the numerical data. NumPy library provides objects for multi-dimensional arrays, whereas pandas is capable of offering an in -memory sencond table called dataframe. numpy consumes less memory as compared to pandas."
   ]
  },
  {
   "cell_type": "code",
   "execution_count": 4,
   "id": "c9a61d0f",
   "metadata": {},
   "outputs": [
    {
     "name": "stdout",
     "output_type": "stream",
     "text": [
      "[[  15. 2006.]\n",
      " [  25. 2996.]\n",
      " [  35. 1986.]\n",
      " [  45.   nan]]\n",
      "<class 'numpy.ndarray'>\n"
     ]
    }
   ],
   "source": [
    "import pandas as pd\n",
    "import numpy as np\n",
    "\n",
    "data = {'Age': [15,25,35,45],\n",
    "       'Birth Year':[2006,2996,1986,np.NaN]\n",
    "       }\n",
    "\n",
    "df = pd.DataFrame(data,columns = ['Age','Birth Year'])\n",
    "\n",
    "numpy_array = df.to_numpy()\n",
    "\n",
    "print(numpy_array)\n",
    "\n",
    "print(type(numpy_array))"
   ]
  },
  {
   "cell_type": "code",
   "execution_count": null,
   "id": "215220b3",
   "metadata": {},
   "outputs": [],
   "source": []
  },
  {
   "cell_type": "code",
   "execution_count": null,
   "id": "b4eb8d80",
   "metadata": {},
   "outputs": [],
   "source": []
  },
  {
   "cell_type": "raw",
   "id": "422eee4d",
   "metadata": {},
   "source": [
    "Q2. What can go wrong when an user enters in a stock-ticker symbol, and how do you handle it?"
   ]
  },
  {
   "cell_type": "raw",
   "id": "ef3c7dec",
   "metadata": {},
   "source": [
    "ans: Ticker symbols aren't static and can change in the event of a merger, name change, or delisting. we can implement a try except else and finally block to deal with it."
   ]
  },
  {
   "cell_type": "code",
   "execution_count": null,
   "id": "26492a73",
   "metadata": {},
   "outputs": [],
   "source": []
  },
  {
   "cell_type": "code",
   "execution_count": null,
   "id": "bfa2beb1",
   "metadata": {},
   "outputs": [],
   "source": []
  },
  {
   "cell_type": "raw",
   "id": "99ee137d",
   "metadata": {},
   "source": [
    "Q3. Identify some of the plotting techniques that are used to produce a stock-market chart."
   ]
  },
  {
   "cell_type": "raw",
   "id": "e320b3f9",
   "metadata": {},
   "source": [
    "ans: The main chart types used by most traders are the line chart, candlestick chart, Renko chart, and point and figure charts. using matplotlib we can make charts."
   ]
  },
  {
   "cell_type": "code",
   "execution_count": 12,
   "id": "8c32411d",
   "metadata": {},
   "outputs": [
    {
     "data": {
      "image/png": "[encoded data removed]",
      "text/plain": [
       "<Figure size 432x288 with 1 Axes>"
      ]
     },
     "metadata": {
      "needs_background": "light"
     },
     "output_type": "display_data"
    }
   ],
   "source": [
    "import matplotlib.pyplot as plt\n",
    "import numpy as np\n",
    "\n",
    "x = np.array([1,2,3,4])\n",
    "y = x*2\n",
    "\n",
    "plt.plot(x,y)\n",
    "\n",
    "x1 = [2,4,6,8]\n",
    "y1 = [3,5,7,9]\n",
    "\n",
    "plt.plot(x1,y1,'-.')\n",
    "\n",
    "\n",
    "plt.xlabel(\"x-axis data\")\n",
    "plt.ylabel(\"y-axis data\")\n",
    "plt.title('multiple plots')\n",
    "plt.show()"
   ]
  },
  {
   "cell_type": "code",
   "execution_count": null,
   "id": "94548b7c",
   "metadata": {},
   "outputs": [],
   "source": []
  },
  {
   "cell_type": "code",
   "execution_count": null,
   "id": "5458d6d6",
   "metadata": {},
   "outputs": [],
   "source": []
  },
  {
   "cell_type": "raw",
   "id": "1db7493f",
   "metadata": {},
   "source": [
    "Q4. Why is it essential to print a legend on a stock market chart?"
   ]
  },
  {
   "cell_type": "raw",
   "id": "8c395318",
   "metadata": {},
   "source": [
    "ans: legend helps end user to identify the growth of a particular stock by seeing a chart. its crusial in data analytics."
   ]
  },
  {
   "cell_type": "code",
   "execution_count": null,
   "id": "97941653",
   "metadata": {},
   "outputs": [],
   "source": []
  },
  {
   "cell_type": "code",
   "execution_count": null,
   "id": "c10dc7db",
   "metadata": {},
   "outputs": [],
   "source": []
  },
  {
   "cell_type": "raw",
   "id": "cf36704b",
   "metadata": {},
   "source": [
    "Q5. What is the best way to limit the length of a pandas data frame to less than a year?"
   ]
  },
  {
   "cell_type": "raw",
   "id": "d5e7f917",
   "metadata": {},
   "source": [
    "ans: truncate() function is used to truncate a series or dataframe before and after some index value. This is a useful shorthand for boolean indexing based on index values above or below certain threshohlds."
   ]
  },
  {
   "cell_type": "code",
   "execution_count": null,
   "id": "cd215056",
   "metadata": {},
   "outputs": [],
   "source": []
  },
  {
   "cell_type": "code",
   "execution_count": null,
   "id": "8a7c19fa",
   "metadata": {},
   "outputs": [],
   "source": []
  },
  {
   "cell_type": "raw",
   "id": "e5329165",
   "metadata": {},
   "source": [
    "Q6. What is the definition of a 180-day moving average?"
   ]
  },
  {
   "cell_type": "raw",
   "id": "b06b17f7",
   "metadata": {},
   "source": [
    "ans: A moving average is an indicator that shows the average value of stock's price over a period(i.e 10 days, 50 days"
   ]
  },
  {
   "cell_type": "code",
   "execution_count": null,
   "id": "c6f4da71",
   "metadata": {},
   "outputs": [],
   "source": []
  },
  {
   "cell_type": "code",
   "execution_count": null,
   "id": "40f4a665",
   "metadata": {},
   "outputs": [],
   "source": []
  },
  {
   "cell_type": "raw",
   "id": "7bfa0ff1",
   "metadata": {},
   "source": [
    "Q7. Did the chapter&#39;s final example use &quot;indirect&quot; importing? If so, how exactly do you do it?"
   ]
  },
  {
   "cell_type": "code",
   "execution_count": null,
   "id": "17714e6d",
   "metadata": {},
   "outputs": [],
   "source": []
  },
  {
   "cell_type": "code",
   "execution_count": null,
   "id": "cebe7119",
   "metadata": {},
   "outputs": [],
   "source": []
  },
  {
   "cell_type": "code",
   "execution_count": null,
   "id": "28aab4f6",
   "metadata": {},
   "outputs": [],
   "source": []
  },
  {
   "cell_type": "code",
   "execution_count": null,
   "id": "b38ddfc1",
   "metadata": {},
   "outputs": [],
   "source": []
  }
 ],
 "metadata": {
  "kernelspec": {
   "display_name": "Python 3",
   "language": "python",
   "name": "python3"
  },
  "language_info": {
   "codemirror_mode": {
    "name": "ipython",
    "version": 3
   },
   "file_extension": ".py",
   "mimetype": "text/x-python",
   "name": "python",
   "nbconvert_exporter": "python",
   "pygments_lexer": "ipython3",
   "version": "3.8.8"
  }
 },
 "nbformat": 4,
 "nbformat_minor": 5
}
